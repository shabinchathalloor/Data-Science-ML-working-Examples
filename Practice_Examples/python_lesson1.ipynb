{
 "cells": [
  {
   "cell_type": "markdown",
   "metadata": {},
   "source": [
    "var_1 = 1\n",
    "var_2 = 2.5\n",
    "var_3 = 'c'\n",
    "var_4 = 'shabin'\n",
    "\n",
    "print(type(var_1))\n",
    "print()\n",
    "print(type(var_2))\n",
    "print()\n",
    "print(type(var_3))\n",
    "print()\n",
    "print(type(var_4))"
   ]
  },
  {
   "cell_type": "code",
   "execution_count": 14,
   "metadata": {},
   "outputs": [
    {
     "name": "stdout",
     "output_type": "stream",
     "text": [
      "20\n",
      "\n",
      "50\n"
     ]
    }
   ],
   "source": [
    "a=20\n",
    "print(a)\n",
    "a='50'\n",
    "print()\n",
    "print(a)"
   ]
  },
  {
   "cell_type": "code",
   "execution_count": 15,
   "metadata": {},
   "outputs": [
    {
     "data": {
      "text/plain": [
       "2"
      ]
     },
     "execution_count": 15,
     "metadata": {},
     "output_type": "execute_result"
    }
   ],
   "source": [
    "round(2.48451)"
   ]
  },
  {
   "cell_type": "code",
   "execution_count": 17,
   "metadata": {},
   "outputs": [
    {
     "data": {
      "text/plain": [
       "-987.456"
      ]
     },
     "execution_count": 17,
     "metadata": {},
     "output_type": "execute_result"
    }
   ],
   "source": [
    "round(-0987.45579621515,3) # after dot"
   ]
  },
  {
   "cell_type": "code",
   "execution_count": 20,
   "metadata": {},
   "outputs": [
    {
     "data": {
      "text/plain": [
       "348000.0"
      ]
     },
     "execution_count": 20,
     "metadata": {},
     "output_type": "execute_result"
    }
   ],
   "source": [
    "round(348481.85492,-3) # before dot"
   ]
  },
  {
   "cell_type": "code",
   "execution_count": 21,
   "metadata": {},
   "outputs": [
    {
     "name": "stdout",
     "output_type": "stream",
     "text": [
      "range(0, 10)\n"
     ]
    }
   ],
   "source": [
    "# range function\n",
    "a=range(10)\n",
    "print(a)"
   ]
  },
  {
   "cell_type": "code",
   "execution_count": 24,
   "metadata": {},
   "outputs": [
    {
     "data": {
      "text/plain": [
       "[0, 1, 2, 3, 4, 5, 6, 7, 8, 9]"
      ]
     },
     "execution_count": 24,
     "metadata": {},
     "output_type": "execute_result"
    }
   ],
   "source": [
    "list(a)"
   ]
  },
  {
   "cell_type": "code",
   "execution_count": 29,
   "metadata": {},
   "outputs": [
    {
     "data": {
      "text/plain": [
       "[5,\n",
       " 10,\n",
       " 15,\n",
       " 20,\n",
       " 25,\n",
       " 30,\n",
       " 35,\n",
       " 40,\n",
       " 45,\n",
       " 50,\n",
       " 55,\n",
       " 60,\n",
       " 65,\n",
       " 70,\n",
       " 75,\n",
       " 80,\n",
       " 85,\n",
       " 90,\n",
       " 95,\n",
       " 100,\n",
       " 105,\n",
       " 110,\n",
       " 115,\n",
       " 120]"
      ]
     },
     "execution_count": 29,
     "metadata": {},
     "output_type": "execute_result"
    }
   ],
   "source": [
    "rng=range(5,125,5)\n",
    "list(rng)"
   ]
  },
  {
   "cell_type": "code",
   "execution_count": 34,
   "metadata": {},
   "outputs": [
    {
     "name": "stdout",
     "output_type": "stream",
     "text": [
      "This is first string\n",
      "This is second string\n",
      "\n",
      "Hi, good morning\n",
      "this is third sentence,\n",
      "a paragraph instead\n"
     ]
    }
   ],
   "source": [
    "str1='This is first string'\n",
    "str2='This is second string'\n",
    "str3='''Hi, good morning\n",
    "this is third sentence,\n",
    "a paragraph instead'''\n",
    "\n",
    "print(str1)\n",
    "print(str2)\n",
    "print()\n",
    "print(str3)\n"
   ]
  },
  {
   "cell_type": "code",
   "execution_count": 35,
   "metadata": {},
   "outputs": [
    {
     "data": {
      "text/plain": [
       "True"
      ]
     },
     "execution_count": 35,
     "metadata": {},
     "output_type": "execute_result"
    }
   ],
   "source": [
    "s1=\"This is python string operations we perform\"\n",
    "s1.endswith('perform')"
   ]
  },
  {
   "cell_type": "code",
   "execution_count": 37,
   "metadata": {},
   "outputs": [
    {
     "data": {
      "text/plain": [
       "29"
      ]
     },
     "execution_count": 37,
     "metadata": {},
     "output_type": "execute_result"
    }
   ],
   "source": [
    "s1.find('ons') # 'o' is on 29 th position"
   ]
  },
  {
   "cell_type": "code",
   "execution_count": 38,
   "metadata": {},
   "outputs": [
    {
     "data": {
      "text/plain": [
       "8"
      ]
     },
     "execution_count": 38,
     "metadata": {},
     "output_type": "execute_result"
    }
   ],
   "source": [
    "s1.index('py')"
   ]
  },
  {
   "cell_type": "code",
   "execution_count": 40,
   "metadata": {},
   "outputs": [
    {
     "data": {
      "text/plain": [
       "'T potgei po'"
      ]
     },
     "execution_count": 40,
     "metadata": {},
     "output_type": "execute_result"
    }
   ],
   "source": [
    "s1[::4]  #syntax is [start:stop:step] taking multiples of 4(position_value)"
   ]
  },
  {
   "cell_type": "code",
   "execution_count": 42,
   "metadata": {},
   "outputs": [
    {
     "data": {
      "text/plain": [
       "['This', 'is', 'python', 'string', 'operations', 'we', 'perform']"
      ]
     },
     "execution_count": 42,
     "metadata": {},
     "output_type": "execute_result"
    }
   ],
   "source": [
    "s1.split(' ') #splitting"
   ]
  },
  {
   "cell_type": "code",
   "execution_count": 43,
   "metadata": {},
   "outputs": [
    {
     "data": {
      "text/plain": [
       "'This is python string operations we perform'"
      ]
     },
     "execution_count": 43,
     "metadata": {},
     "output_type": "execute_result"
    }
   ],
   "source": [
    "s1.capitalize()"
   ]
  },
  {
   "cell_type": "code",
   "execution_count": 44,
   "metadata": {},
   "outputs": [
    {
     "data": {
      "text/plain": [
       "'this is python string operations we perform'"
      ]
     },
     "execution_count": 44,
     "metadata": {},
     "output_type": "execute_result"
    }
   ],
   "source": [
    "s1.lower()"
   ]
  },
  {
   "cell_type": "code",
   "execution_count": 45,
   "metadata": {},
   "outputs": [
    {
     "data": {
      "text/plain": [
       "'THIS IS PYTHON STRING OPERATIONS WE PERFORM'"
      ]
     },
     "execution_count": 45,
     "metadata": {},
     "output_type": "execute_result"
    }
   ],
   "source": [
    "s1.upper()"
   ]
  },
  {
   "cell_type": "code",
   "execution_count": 53,
   "metadata": {},
   "outputs": [
    {
     "data": {
      "text/plain": [
       "'This is python string operations we performAnd this is also concatinate with s1 also add this'"
      ]
     },
     "execution_count": 53,
     "metadata": {},
     "output_type": "execute_result"
    }
   ],
   "source": [
    "s2='And this is also concatinate with s1'\n",
    "s1+s2+' also add this'"
   ]
  },
  {
   "cell_type": "code",
   "execution_count": 56,
   "metadata": {},
   "outputs": [
    {
     "data": {
      "text/plain": [
       "'i love data science...i love data science...i love data science...i love data science...'"
      ]
     },
     "execution_count": 56,
     "metadata": {},
     "output_type": "execute_result"
    }
   ],
   "source": [
    "s3='i love data science...'\n",
    "s3*4"
   ]
  },
  {
   "cell_type": "code",
   "execution_count": 57,
   "metadata": {},
   "outputs": [
    {
     "name": "stdout",
     "output_type": "stream",
     "text": [
      "<class 'list'>\n"
     ]
    }
   ],
   "source": [
    "#list operations\n",
    "animal=['tiger','lion','dog','cat','horse','leopard','bear']\n",
    "print(type(animal))"
   ]
  },
  {
   "cell_type": "code",
   "execution_count": 66,
   "metadata": {},
   "outputs": [
    {
     "name": "stdout",
     "output_type": "stream",
     "text": [
      "['tiger', 'lion', 'dog', 'cat', 'horse']\n",
      "['lion', 'dog', 'cat', 'horse']\n",
      "['tiger', 'lion', 'dog', 'cat']\n",
      "['leopard', 'bear', 'cow', 'cow', 'cow', 'cow', 'cow', 'cow', 'cow']\n"
     ]
    }
   ],
   "source": [
    "print(animal[0:5])\n",
    "print(animal[1:5])\n",
    "print(animal[:4])\n",
    "print(animal[5:])\n"
   ]
  },
  {
   "cell_type": "code",
   "execution_count": 68,
   "metadata": {},
   "outputs": [
    {
     "name": "stdout",
     "output_type": "stream",
     "text": [
      "['tiger', 'lion', 'dog', 'cat', 'horse', 'leopard', 'bear', 'cow', 'cow', 'cow', 'cow', 'cow', 'cow', 'cow', 'cow', 'cow']\n",
      "['leopard', 'bear', 'cow', 'cow', 'cow', 'cow', 'cow', 'cow', 'cow', 'cow', 'cow']\n"
     ]
    }
   ],
   "source": [
    "animal.append('cow')\n",
    "print(animal)\n",
    "print(animal[5:])"
   ]
  },
  {
   "cell_type": "code",
   "execution_count": 71,
   "metadata": {},
   "outputs": [
    {
     "name": "stdout",
     "output_type": "stream",
     "text": [
      "['tiger', 'lion', 'yack', 'cat', 'horse', 'leopard', 'bear', 'cow', 'cow', 'cow', 'cow', 'cow', 'cow', 'cow', 'cow', 'cow']\n"
     ]
    }
   ],
   "source": [
    "animal[2]='yack' #dog is replaced by yack\n",
    "print(animal)"
   ]
  },
  {
   "cell_type": "code",
   "execution_count": 77,
   "metadata": {},
   "outputs": [
    {
     "name": "stdout",
     "output_type": "stream",
     "text": [
      "('peacock', 'hen', 'kukoo', 'parrot', 'pigeon', 'squirel', 'hummingbird')\n",
      "<class 'tuple'>\n",
      "('kukoo', 'parrot', 'pigeon', 'squirel')\n"
     ]
    }
   ],
   "source": [
    "#tuple creation\n",
    "birds=('peacock','hen','kukoo','parrot','pigeon','squirel','hummingbird')\n",
    "print(birds)\n",
    "print(type(birds))\n",
    "print(birds[2:6])\n",
    "#birds.append('owl') #this will show error since tuple cannot be modified"
   ]
  },
  {
   "cell_type": "code",
   "execution_count": 80,
   "metadata": {},
   "outputs": [
    {
     "name": "stdout",
     "output_type": "stream",
     "text": [
      "<class 'dict'>\n"
     ]
    }
   ],
   "source": [
    "#dictionary\n",
    "dictry=dict({'subject':['basics','fileI/O', 'DataClean','DataManip','Dataimport','DataAnalysis','Datavisualize','DataReport'],\n",
    "            'application':['Netflix','Google','maths','Science','Flipcart','Amazon','ebay']})\n",
    "print(type(dictry))"
   ]
  },
  {
   "cell_type": "code",
   "execution_count": 81,
   "metadata": {},
   "outputs": [
    {
     "name": "stdout",
     "output_type": "stream",
     "text": [
      "{'subject': ['basics', 'fileI/O', 'DataClean', 'DataManip', 'Dataimport', 'DataAnalysis', 'Datavisualize', 'DataReport'], 'application': ['Netflix', 'Google', 'maths', 'Science', 'Flipcart', 'Amazon', 'ebay']}\n"
     ]
    }
   ],
   "source": [
    "print(dictry)"
   ]
  },
  {
   "cell_type": "code",
   "execution_count": 83,
   "metadata": {},
   "outputs": [
    {
     "name": "stdout",
     "output_type": "stream",
     "text": [
      "a1= 30\n",
      "a2= -10\n",
      "a3= 200\n",
      "a4= 0.5\n"
     ]
    }
   ],
   "source": [
    "#Arithmetic\n",
    "a=10\n",
    "b=20\n",
    "a1=a+b\n",
    "print(\"a1=\",a1)\n",
    "print(\"a2=\",a-b)\n",
    "print(\"a3=\",a*b)\n",
    "print(\"a4=\",a/b)"
   ]
  },
  {
   "cell_type": "code",
   "execution_count": 87,
   "metadata": {},
   "outputs": [
    {
     "name": "stdout",
     "output_type": "stream",
     "text": [
      "a5= 5.142857142857143\n",
      "a6= 1\n",
      "a7= 5\n",
      "a1= 78364164096\n"
     ]
    }
   ],
   "source": [
    "a=36\n",
    "b=7\n",
    "print(\"a5=\",a/b)\n",
    "print(\"a6=\",a%b) #Modulas\n",
    "print(\"a7=\",a//b) #floor division (how many times it can divided)\n",
    "print(\"a1=\",a**b) #Exponent of a"
   ]
  },
  {
   "cell_type": "code",
   "execution_count": 89,
   "metadata": {},
   "outputs": [
    {
     "name": "stdout",
     "output_type": "stream",
     "text": [
      "Logical AND is 4\n",
      "Logical OR is 5\n",
      "Negation of a -6\n",
      "Negation of b -5\n"
     ]
    }
   ],
   "source": [
    "#Logical OPerations\n",
    "a=5\n",
    "b=4\n",
    "print(\"Logical AND is\", a&b) #operations performed on binary values\n",
    "print(\"Logical OR is\", a|b)\n",
    "print(\"Negation of a\", ~a)\n",
    "print(\"Negation of b\", ~b)"
   ]
  },
  {
   "cell_type": "code",
   "execution_count": 93,
   "metadata": {},
   "outputs": [
    {
     "name": "stdout",
     "output_type": "stream",
     "text": [
      "check if a>b:  True\n",
      "check if a<b:  False\n",
      "check if a<=b:  False\n",
      "check if a>=b:  True\n",
      "check if a==b:  False\n",
      "check if a!=b:  True\n"
     ]
    }
   ],
   "source": [
    "#COMPARISON\n",
    "print(\"check if a>b: \",a>b)\n",
    "print(\"check if a<b: \",a<b)\n",
    "print(\"check if a<=b: \",a<=b)\n",
    "print(\"check if a>=b: \",a>=b)\n",
    "print(\"check if a==b: \",a==b)\n",
    "print(\"check if a!=b: \",a!=b)"
   ]
  },
  {
   "cell_type": "code",
   "execution_count": 95,
   "metadata": {},
   "outputs": [
    {
     "name": "stdout",
     "output_type": "stream",
     "text": [
      "True\n",
      "False\n",
      "False\n",
      "True\n",
      "False\n"
     ]
    }
   ],
   "source": [
    "x='python data science' #identify operation\n",
    "print('z' is not x)\n",
    "print('D' in x) #membership\n",
    "v='Republic INDIA' #identity operation\n",
    "print(v is x) # here v is not identical to x,so it is false\n",
    "print('INDIA' in v)\n",
    "print('india' in v)"
   ]
  },
  {
   "cell_type": "code",
   "execution_count": 102,
   "metadata": {},
   "outputs": [
    {
     "name": "stdout",
     "output_type": "stream",
     "text": [
      "20 30 40 50 60 70 80 90 100 110 120 130 140 150 160 170 180 190 200 "
     ]
    }
   ],
   "source": [
    "#LOOPING STATEMENTS\n",
    "r1=range(20,201,10)\n",
    "for i in r1:\n",
    "    print(i,end=' ')"
   ]
  },
  {
   "cell_type": "code",
   "execution_count": 116,
   "metadata": {},
   "outputs": [
    {
     "name": "stdout",
     "output_type": "stream",
     "text": [
      "Minor still\n",
      "HI calicut\n",
      "Data science\n"
     ]
    }
   ],
   "source": [
    "#if-else\n",
    "age=15\n",
    "if(age>=18):\n",
    "    print('valid for voting')\n",
    "    print('HI calicut')\n",
    "    print('Data science')\n",
    "else:\n",
    "    print('Minor still')\n",
    "    print('HI calicut')\n",
    "    print('Data science')\n",
    "    "
   ]
  },
  {
   "cell_type": "code",
   "execution_count": 121,
   "metadata": {},
   "outputs": [
    {
     "name": "stdout",
     "output_type": "stream",
     "text": [
      "Grade B+\n",
      "None\n"
     ]
    }
   ],
   "source": [
    "#if-elif statements\n",
    "\n",
    "def score(marks): #udf\n",
    "    \n",
    "    if(marks>=90):\n",
    "        print(\"Grade A+\")\n",
    "    elif(marks>=75):\n",
    "        print(\"Grade A\")\n",
    "    elif(marks>=55):\n",
    "        print(\"Grade B+\")\n",
    "    elif(marks>=35):\n",
    "        print(\"Grade c\")\n",
    "    else:\n",
    "        print(\"Failed.....\")\n",
    "        \n",
    "print(score(56))"
   ]
  },
  {
   "cell_type": "code",
   "execution_count": 123,
   "metadata": {},
   "outputs": [
    {
     "name": "stdout",
     "output_type": "stream",
     "text": [
      "Failed.....\n",
      "None\n"
     ]
    }
   ],
   "source": [
    "print(score(22))"
   ]
  },
  {
   "cell_type": "code",
   "execution_count": 126,
   "metadata": {},
   "outputs": [
    {
     "name": "stdout",
     "output_type": "stream",
     "text": [
      "Inside loop printing 1\n",
      "Inside loop printing 2\n",
      "Inside loop printing 3\n",
      "Inside loop printing 4\n",
      "control inside if\n",
      "control is in else clause\n"
     ]
    }
   ],
   "source": [
    "#while loop\n",
    "\n",
    "counter=1\n",
    "while counter<5:\n",
    "    print(\"Inside loop printing\",counter)\n",
    "    counter+=1\n",
    "    if(counter==5):\n",
    "        print(\"control inside if\")\n",
    "else: print(\"control is in else clause\")"
   ]
  },
  {
   "cell_type": "code",
   "execution_count": 128,
   "metadata": {},
   "outputs": [
    {
     "name": "stdout",
     "output_type": "stream",
     "text": [
      "6\n",
      "6\n"
     ]
    }
   ],
   "source": [
    "var1=5\n",
    "var1=var1+1\n",
    "print(var1)\n",
    "\n",
    "var2=5\n",
    "var2+=1 #asnmt\n",
    "print(var2)"
   ]
  },
  {
   "cell_type": "code",
   "execution_count": 131,
   "metadata": {},
   "outputs": [
    {
     "name": "stdout",
     "output_type": "stream",
     "text": [
      "p\n",
      "y\n",
      "t\n",
      "h\n",
      "o\n",
      "n\n",
      " \n",
      "a\n",
      "n\n",
      "d\n",
      " \n",
      "p\n",
      "y\n",
      " \n",
      "INDIA\n",
      "end of the statement\n"
     ]
    }
   ],
   "source": [
    "#for break stmt\n",
    "for val in \"python and py spark\":\n",
    "    if val=='s':\n",
    "        break\n",
    "    print(val)\n",
    "print(\"INDIA\")\n",
    "print(\"end of the statement\")"
   ]
  },
  {
   "cell_type": "code",
   "execution_count": 133,
   "metadata": {},
   "outputs": [
    {
     "name": "stdout",
     "output_type": "stream",
     "text": [
      "Current position: 9\n",
      "Current position: 8\n",
      "Current position: 7\n",
      "Current position: 5\n",
      "Current position: 4\n",
      "Current position: 3\n",
      "Current position: 2\n",
      "Current position: 1\n",
      "Current position: 0\n",
      "Good luck\n"
     ]
    }
   ],
   "source": [
    "#continue\n",
    "var=10\n",
    "while var>0:\n",
    "    var-=1\n",
    "    if var==6:\n",
    "        continue\n",
    "    print(\"Current position:\", var)\n",
    "print(\"Good luck\")"
   ]
  },
  {
   "cell_type": "code",
   "execution_count": 134,
   "metadata": {},
   "outputs": [
    {
     "name": "stdout",
     "output_type": "stream",
     "text": [
      "Current letter= p\n",
      "Current letter= y\n",
      "Current letter= t\n",
      "Current letter= h\n",
      "Current letter= o\n",
      "Current letter= n\n",
      "Current letter=  \n",
      "Current letter= a\n",
      "Current letter= n\n",
      "Current letter= d\n",
      "Current letter=  \n",
      "Current letter= a\n",
      "Current letter= n\n",
      "Current letter= a\n",
      "statament inside pass \n",
      "Current letter= c\n",
      "Current letter= o\n",
      "Current letter= n\n",
      "Current letter= d\n",
      "Current letter= a\n",
      "Out of the loop\n"
     ]
    }
   ],
   "source": [
    "#pass statement\n",
    "for letter in 'python and anaconda':\n",
    "    if letter=='c':\n",
    "        pass\n",
    "        print(\"statament inside pass \")\n",
    "    print(\"Current letter=\",letter)\n",
    "print(\"Out of the loop\")"
   ]
  }
 ],
 "metadata": {
  "kernelspec": {
   "display_name": "Python 3",
   "language": "python",
   "name": "python3"
  },
  "language_info": {
   "codemirror_mode": {
    "name": "ipython",
    "version": 3
   },
   "file_extension": ".py",
   "mimetype": "text/x-python",
   "name": "python",
   "nbconvert_exporter": "python",
   "pygments_lexer": "ipython3",
   "version": "3.7.3"
  }
 },
 "nbformat": 4,
 "nbformat_minor": 2
}
