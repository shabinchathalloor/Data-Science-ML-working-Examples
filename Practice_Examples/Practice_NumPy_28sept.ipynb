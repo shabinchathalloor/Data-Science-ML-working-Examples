{
 "cells": [
  {
   "cell_type": "code",
   "execution_count": 1,
   "metadata": {},
   "outputs": [],
   "source": [
    "#python program to demonstrate basic array characteristics\n",
    "import numpy as np"
   ]
  },
  {
   "cell_type": "code",
   "execution_count": 2,
   "metadata": {},
   "outputs": [
    {
     "name": "stdout",
     "output_type": "stream",
     "text": [
      "Array is of type:  <class 'numpy.ndarray'>\n"
     ]
    }
   ],
   "source": [
    "#creating array object\n",
    "arr = np.array([[1,2,3],\n",
    "              [4,2,5]])\n",
    "print(\"Array is of type: \",type(arr))"
   ]
  },
  {
   "cell_type": "code",
   "execution_count": 3,
   "metadata": {},
   "outputs": [
    {
     "name": "stdout",
     "output_type": "stream",
     "text": [
      "No of dimensions:  2\n"
     ]
    }
   ],
   "source": [
    "print(\"No of dimensions: \",arr.ndim)"
   ]
  },
  {
   "cell_type": "code",
   "execution_count": 4,
   "metadata": {},
   "outputs": [
    {
     "name": "stdout",
     "output_type": "stream",
     "text": [
      "Shape of the array:  (2, 3)\n"
     ]
    }
   ],
   "source": [
    "print(\"Shape of the array: \",arr.shape)"
   ]
  },
  {
   "cell_type": "code",
   "execution_count": 5,
   "metadata": {},
   "outputs": [
    {
     "name": "stdout",
     "output_type": "stream",
     "text": [
      "Size of the array:  6\n"
     ]
    }
   ],
   "source": [
    "print(\"Size of the array: \",arr.size)"
   ]
  },
  {
   "cell_type": "code",
   "execution_count": 6,
   "metadata": {},
   "outputs": [
    {
     "name": "stdout",
     "output_type": "stream",
     "text": [
      "Array stores elements of type:  int32\n"
     ]
    }
   ],
   "source": [
    "print(\"Array stores elements of type: \",arr.dtype)"
   ]
  },
  {
   "cell_type": "markdown",
   "metadata": {},
   "source": [
    "# Array creation techniques"
   ]
  },
  {
   "cell_type": "code",
   "execution_count": 11,
   "metadata": {},
   "outputs": [
    {
     "name": "stdout",
     "output_type": "stream",
     "text": [
      "Array created using passed list: \n",
      " [[1. 2. 4.]\n",
      " [5. 8. 7.]]\n"
     ]
    }
   ],
   "source": [
    "#creating array from list with type float\n",
    "a = np.array([[1,2,4],[5,8,7]], dtype='float')\n",
    "print(\"Array created using passed list: \\n\",a)"
   ]
  },
  {
   "cell_type": "code",
   "execution_count": 12,
   "metadata": {},
   "outputs": [
    {
     "name": "stdout",
     "output_type": "stream",
     "text": [
      "\n",
      "Array created using passing tuple: \n",
      " [1 3 2]\n"
     ]
    }
   ],
   "source": [
    "#creating array from tuple\n",
    "b = np.array((1,3,2))\n",
    "print(\"\\nArray created using passing tuple: \\n\",b)"
   ]
  },
  {
   "cell_type": "code",
   "execution_count": 13,
   "metadata": {},
   "outputs": [
    {
     "name": "stdout",
     "output_type": "stream",
     "text": [
      "\n",
      "Array initialized with all zeros: \n",
      " [[0. 0. 0. 0.]\n",
      " [0. 0. 0. 0.]\n",
      " [0. 0. 0. 0.]]\n"
     ]
    }
   ],
   "source": [
    "#creating 3*4 array with all zeros\n",
    "c = np.zeros((3,4))\n",
    "print(\"\\nArray initialized with all zeros: \\n\",c)\n"
   ]
  },
  {
   "cell_type": "code",
   "execution_count": 14,
   "metadata": {},
   "outputs": [
    {
     "name": "stdout",
     "output_type": "stream",
     "text": [
      "\n",
      "Array initialized with all sixes: \n",
      " [[6.+0.j 6.+0.j 6.+0.j]\n",
      " [6.+0.j 6.+0.j 6.+0.j]\n",
      " [6.+0.j 6.+0.j 6.+0.j]]\n"
     ]
    }
   ],
   "source": [
    "#create a constant value array of complex type\n",
    "d = np.full((3,3),6, dtype='complex')\n",
    "print(\"\\nArray initialized with all sixes: \\n\",d)"
   ]
  },
  {
   "cell_type": "code",
   "execution_count": 15,
   "metadata": {},
   "outputs": [
    {
     "name": "stdout",
     "output_type": "stream",
     "text": [
      "Random array \n",
      "  [[0.67317175 0.53432599]\n",
      " [0.46076623 0.02958153]]\n"
     ]
    }
   ],
   "source": [
    "#create an array with random values\n",
    "e=np.random.random((2,2))\n",
    "print(\"Random array \\n \",e)"
   ]
  },
  {
   "cell_type": "code",
   "execution_count": 16,
   "metadata": {},
   "outputs": [
    {
     "name": "stdout",
     "output_type": "stream",
     "text": [
      "Sequntial array with steps of 5:\n",
      " [ 0  5 10 15 20 25]\n"
     ]
    }
   ],
   "source": [
    "#create a sequence of integers from 0 to 30 with step=5\n",
    "f=np.arange(0,30,5)\n",
    "print(\"Sequntial array with steps of 5:\\n\",f)"
   ]
  },
  {
   "cell_type": "code",
   "execution_count": 19,
   "metadata": {},
   "outputs": [
    {
     "name": "stdout",
     "output_type": "stream",
     "text": [
      "Sequntial array with 10 values between 0 and 5\n",
      " [0.         0.55555556 1.11111111 1.66666667 2.22222222 2.77777778\n",
      " 3.33333333 3.88888889 4.44444444 5.        ]\n"
     ]
    }
   ],
   "source": [
    "#create a sequnce of 10 values in range 0 to 5\n",
    "g=np.linspace(0,5,10)\n",
    "print(\"Sequntial array with 10 values between 0 and 5\\n\",g)"
   ]
  },
  {
   "cell_type": "code",
   "execution_count": 20,
   "metadata": {},
   "outputs": [
    {
     "name": "stdout",
     "output_type": "stream",
     "text": [
      "Original array:\n",
      " [[1 2 3 4]\n",
      " [5 2 4 2]\n",
      " [1 2 0 1]]\n",
      "Reshaped array:\n",
      " [[[1 2 3]\n",
      "  [4 5 2]]\n",
      "\n",
      " [[4 2 1]\n",
      "  [2 0 1]]]\n"
     ]
    }
   ],
   "source": [
    "#Reshaping 3x4 array to 2x3x3 array\n",
    "arr=np.array([[1,2,3,4],\n",
    "             [5,2,4,2],\n",
    "             [1,2,0,1]])\n",
    "newarr=arr.reshape(2,2,3)\n",
    "print(\"Original array:\\n\",arr)\n",
    "print(\"Reshaped array:\\n\",newarr)"
   ]
  },
  {
   "cell_type": "code",
   "execution_count": 21,
   "metadata": {},
   "outputs": [
    {
     "name": "stdout",
     "output_type": "stream",
     "text": [
      "Original array:\n",
      " [[1 2 3]\n",
      " [4 5 6]]\n",
      "Flattened array is:\n",
      " [1 2 3 4 5 6]\n"
     ]
    }
   ],
   "source": [
    "#Flatten array\n",
    "arr=np.array([[1,2,3],[4,5,6]])\n",
    "flarr=arr.flatten()\n",
    "print(\"Original array:\\n\",arr)\n",
    "print(\"Flattened array is:\\n\",flarr)"
   ]
  },
  {
   "cell_type": "code",
   "execution_count": 22,
   "metadata": {},
   "outputs": [],
   "source": [
    "#prgm for indexing in numpy\n",
    "arr=np.array([[-1,2,0,4],\n",
    "             [4,-0.5,6,0],\n",
    "             [2.6,0,7,8],\n",
    "             [3,-7,4,2.0]])"
   ]
  },
  {
   "cell_type": "code",
   "execution_count": 23,
   "metadata": {},
   "outputs": [
    {
     "name": "stdout",
     "output_type": "stream",
     "text": [
      "Array with first 2 rows and alternate columns(0 and 2):\n",
      " [[-1.  0.]\n",
      " [ 4.  6.]]\n"
     ]
    }
   ],
   "source": [
    "#slicing array\n",
    "temp=arr[:2, ::2]\n",
    "print(\"Array with first 2 rows and alternate columns(0 and 2):\\n\",temp)"
   ]
  },
  {
   "cell_type": "code",
   "execution_count": 25,
   "metadata": {},
   "outputs": [
    {
     "name": "stdout",
     "output_type": "stream",
     "text": [
      "Elements at indices (0,3),(1,2),(2,1)\n",
      " [4. 6. 0. 3.]\n"
     ]
    }
   ],
   "source": [
    "#integer array indexing\n",
    "temp=arr[[0,1,2,3,],[3,2,1,0]]\n",
    "print(\"Elements at indices (0,3),(1,2),(2,1)\\n\",temp)"
   ]
  },
  {
   "cell_type": "code",
   "execution_count": 26,
   "metadata": {},
   "outputs": [
    {
     "name": "stdout",
     "output_type": "stream",
     "text": [
      "Elements greater than 0\n",
      " [2.  4.  4.  6.  2.6 7.  8.  3.  4.  2. ]\n"
     ]
    }
   ],
   "source": [
    "#boolean array indexing\n",
    "cond=arr>0 #cond is a boolean array\n",
    "temp = arr[cond]\n",
    "print(\"Elements greater than 0\\n\",temp)"
   ]
  },
  {
   "cell_type": "code",
   "execution_count": 27,
   "metadata": {},
   "outputs": [],
   "source": [
    "#basic operations on single array\n",
    "a=np.array([1,2,5,3])\n"
   ]
  },
  {
   "cell_type": "code",
   "execution_count": 28,
   "metadata": {},
   "outputs": [
    {
     "name": "stdout",
     "output_type": "stream",
     "text": [
      "Adding 1 to every element: [2 3 6 4]\n"
     ]
    }
   ],
   "source": [
    "#add 1 to every element\n",
    "print(\"Adding 1 to every element:\",a+1)"
   ]
  },
  {
   "cell_type": "code",
   "execution_count": 29,
   "metadata": {},
   "outputs": [
    {
     "name": "stdout",
     "output_type": "stream",
     "text": [
      "Subtracting 3 from each element: [-2 -1  2  0]\n"
     ]
    }
   ],
   "source": [
    "print(\"Subtracting 3 from each element:\",a-3)"
   ]
  },
  {
   "cell_type": "code",
   "execution_count": 30,
   "metadata": {},
   "outputs": [
    {
     "name": "stdout",
     "output_type": "stream",
     "text": [
      "Multiplying each element by 10 [10 20 50 30]\n"
     ]
    }
   ],
   "source": [
    "print(\"Multiplying each element by 10\",a*10)"
   ]
  },
  {
   "cell_type": "code",
   "execution_count": 31,
   "metadata": {},
   "outputs": [
    {
     "name": "stdout",
     "output_type": "stream",
     "text": [
      "Sqaring each element: [ 1  4 25  9]\n"
     ]
    }
   ],
   "source": [
    "print(\"Sqaring each element:\",a**2)"
   ]
  },
  {
   "cell_type": "code",
   "execution_count": 32,
   "metadata": {},
   "outputs": [
    {
     "name": "stdout",
     "output_type": "stream",
     "text": [
      "Doubled each element of array: [ 2  4 10  6]\n"
     ]
    }
   ],
   "source": [
    "#modify existing array\n",
    "a *=2\n",
    "print(\"Doubled each element of array:\",a)"
   ]
  },
  {
   "cell_type": "code",
   "execution_count": 33,
   "metadata": {},
   "outputs": [
    {
     "name": "stdout",
     "output_type": "stream",
     "text": [
      "Original array:\n",
      " [[1 2 3]\n",
      " [3 4 5]\n",
      " [9 6 0]]\n",
      "Transpose of array:\n",
      " [[1 3 9]\n",
      " [2 4 6]\n",
      " [3 5 0]]\n"
     ]
    }
   ],
   "source": [
    "#transpose of array\n",
    "a=np.array([[1,2,3],[3,4,5],[9,6,0]])\n",
    "print(\"Original array:\\n\",a)\n",
    "print(\"Transpose of array:\\n\",a.T)"
   ]
  },
  {
   "cell_type": "code",
   "execution_count": 34,
   "metadata": {},
   "outputs": [],
   "source": [
    "#unary operations in numpy\n",
    "arr=np.array([[1,5,6],[4,7,2],[3,1,9]])"
   ]
  },
  {
   "cell_type": "code",
   "execution_count": 35,
   "metadata": {},
   "outputs": [
    {
     "name": "stdout",
     "output_type": "stream",
     "text": [
      "Largest element is: 9\n"
     ]
    }
   ],
   "source": [
    "print(\"Largest element is:\",arr.max())"
   ]
  },
  {
   "cell_type": "code",
   "execution_count": 37,
   "metadata": {},
   "outputs": [
    {
     "name": "stdout",
     "output_type": "stream",
     "text": [
      "Row-wise maximum elements: [6 7 9]\n"
     ]
    }
   ],
   "source": [
    "print(\"Row-wise maximum elements:\",arr.max(axis=1))"
   ]
  },
  {
   "cell_type": "code",
   "execution_count": 38,
   "metadata": {},
   "outputs": [
    {
     "name": "stdout",
     "output_type": "stream",
     "text": [
      "Minimum element of array: 1\n"
     ]
    }
   ],
   "source": [
    "print(\"Minimum element of array:\",arr.min())"
   ]
  },
  {
   "cell_type": "code",
   "execution_count": 39,
   "metadata": {},
   "outputs": [
    {
     "name": "stdout",
     "output_type": "stream",
     "text": [
      "Sum of all array elements: 38\n"
     ]
    }
   ],
   "source": [
    "print(\"Sum of all array elements:\",arr.sum())"
   ]
  },
  {
   "cell_type": "code",
   "execution_count": 40,
   "metadata": {},
   "outputs": [
    {
     "name": "stdout",
     "output_type": "stream",
     "text": [
      "cumilative sum along each row:\n",
      " [[ 1  6 12]\n",
      " [ 4 11 13]\n",
      " [ 3  4 13]]\n"
     ]
    }
   ],
   "source": [
    "print(\"cumilative sum along each row:\\n\",arr.cumsum(axis=1))"
   ]
  },
  {
   "cell_type": "code",
   "execution_count": 41,
   "metadata": {},
   "outputs": [],
   "source": [
    "#binary operations in Numpy\n",
    "a=np.array([[1,2],\n",
    "           [3,4]])\n",
    "b=np.array([[4,3],\n",
    "           [2,1]])\n"
   ]
  },
  {
   "cell_type": "code",
   "execution_count": 42,
   "metadata": {},
   "outputs": [
    {
     "name": "stdout",
     "output_type": "stream",
     "text": [
      "Array sum:\n",
      " [[5 5]\n",
      " [5 5]]\n"
     ]
    }
   ],
   "source": [
    "print(\"Array sum:\\n\",a+b)"
   ]
  },
  {
   "cell_type": "code",
   "execution_count": 43,
   "metadata": {},
   "outputs": [
    {
     "name": "stdout",
     "output_type": "stream",
     "text": [
      "Array multiplication:\n",
      " [[4 6]\n",
      " [6 4]]\n"
     ]
    }
   ],
   "source": [
    "print(\"Array multiplication:\\n\",a*b)"
   ]
  },
  {
   "cell_type": "code",
   "execution_count": 45,
   "metadata": {},
   "outputs": [
    {
     "name": "stdout",
     "output_type": "stream",
     "text": [
      "Matrix multiplication:\n",
      " [[ 8  5]\n",
      " [20 13]]\n"
     ]
    }
   ],
   "source": [
    "print(\"Matrix multiplication:\\n\",a.dot(b))"
   ]
  },
  {
   "cell_type": "markdown",
   "metadata": {},
   "source": [
    "# Universal functions in Numpy"
   ]
  },
  {
   "cell_type": "code",
   "execution_count": 46,
   "metadata": {},
   "outputs": [
    {
     "name": "stdout",
     "output_type": "stream",
     "text": [
      "Sine values of array elements: [0.0000000e+00 1.0000000e+00 1.2246468e-16]\n"
     ]
    }
   ],
   "source": [
    "#create an array of sine values\n",
    "a=np.array([0,np.pi/2,np.pi])\n",
    "print(\"Sine values of array elements:\",np.sin(a))"
   ]
  },
  {
   "cell_type": "code",
   "execution_count": 47,
   "metadata": {},
   "outputs": [
    {
     "name": "stdout",
     "output_type": "stream",
     "text": [
      "Exponent of array elements: [ 1.          2.71828183  7.3890561  20.08553692]\n"
     ]
    }
   ],
   "source": [
    "#Exponential values\n",
    "a=np.array([0,1,2,3])\n",
    "print(\"Exponent of array elements:\",np.exp(a))"
   ]
  },
  {
   "cell_type": "code",
   "execution_count": 48,
   "metadata": {},
   "outputs": [
    {
     "name": "stdout",
     "output_type": "stream",
     "text": [
      "Square root of array elements: [0.         1.         1.41421356 1.73205081]\n"
     ]
    }
   ],
   "source": [
    "print(\"Square root of array elements:\",np.sqrt(a))"
   ]
  },
  {
   "cell_type": "code",
   "execution_count": 49,
   "metadata": {},
   "outputs": [],
   "source": [
    "#sorting\n",
    "a=np.array([[1,4,2],\n",
    "           [3,4,6],\n",
    "           [0,-1,5]])"
   ]
  },
  {
   "cell_type": "code",
   "execution_count": 50,
   "metadata": {},
   "outputs": [
    {
     "name": "stdout",
     "output_type": "stream",
     "text": [
      "Array elements in sorted order:\n",
      " [-1  0  1  2  3  4  4  5  6]\n"
     ]
    }
   ],
   "source": [
    "print(\"Array elements in sorted order:\\n\",np.sort(a,axis=None))"
   ]
  },
  {
   "cell_type": "code",
   "execution_count": 51,
   "metadata": {},
   "outputs": [
    {
     "name": "stdout",
     "output_type": "stream",
     "text": [
      "Row-wise sorted array:\n",
      " [[ 1  2  4]\n",
      " [ 3  4  6]\n",
      " [-1  0  5]]\n"
     ]
    }
   ],
   "source": [
    "print(\"Row-wise sorted array:\\n\",np.sort(a,axis=1))"
   ]
  },
  {
   "cell_type": "code",
   "execution_count": 52,
   "metadata": {},
   "outputs": [
    {
     "name": "stdout",
     "output_type": "stream",
     "text": [
      "Column wise sort by applying merge-sort:\n",
      " [[ 0 -1  2]\n",
      " [ 1  4  5]\n",
      " [ 3  4  6]]\n"
     ]
    }
   ],
   "source": [
    "#specify sort algorithm\n",
    "print(\"Column wise sort by applying merge-sort:\\n\",np.sort(a,axis=0,kind='mergesort'))"
   ]
  },
  {
   "cell_type": "code",
   "execution_count": 53,
   "metadata": {},
   "outputs": [],
   "source": [
    "#sorting of structured array\n",
    "#set alias name for dtypes\n",
    "dtypes = [('name','S10'),('grad_year',int),('cgpa',float)]"
   ]
  },
  {
   "cell_type": "code",
   "execution_count": 54,
   "metadata": {},
   "outputs": [],
   "source": [
    "#values to be put in array\n",
    "values=[('Hrithik',2009,8.5),('Ajay',2008,8.7),('Ramees',2007,6.8),('Shabin',2009,7.0)]"
   ]
  },
  {
   "cell_type": "code",
   "execution_count": 55,
   "metadata": {},
   "outputs": [
    {
     "name": "stdout",
     "output_type": "stream",
     "text": [
      "Array sorted by names:\n",
      " [(b'Ajay', 2008, 8.7) (b'Hrithik', 2009, 8.5) (b'Ramees', 2007, 6.8)\n",
      " (b'Shabin', 2009, 7. )]\n"
     ]
    }
   ],
   "source": [
    "#creating array\n",
    "arr=np.array(values, dtype=dtypes)\n",
    "print(\"Array sorted by names:\\n\",np.sort(arr, order='name'))"
   ]
  },
  {
   "cell_type": "code",
   "execution_count": null,
   "metadata": {},
   "outputs": [],
   "source": []
  }
 ],
 "metadata": {
  "kernelspec": {
   "display_name": "Python 3",
   "language": "python",
   "name": "python3"
  },
  "language_info": {
   "codemirror_mode": {
    "name": "ipython",
    "version": 3
   },
   "file_extension": ".py",
   "mimetype": "text/x-python",
   "name": "python",
   "nbconvert_exporter": "python",
   "pygments_lexer": "ipython3",
   "version": "3.7.3"
  }
 },
 "nbformat": 4,
 "nbformat_minor": 2
}
