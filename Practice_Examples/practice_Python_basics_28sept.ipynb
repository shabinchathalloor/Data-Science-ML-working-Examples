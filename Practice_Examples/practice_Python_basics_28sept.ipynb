{
 "cells": [
  {
   "cell_type": "code",
   "execution_count": 1,
   "metadata": {},
   "outputs": [
    {
     "name": "stdout",
     "output_type": "stream",
     "text": [
      "<class 'int'>\n",
      "<class 'float'>\n",
      "<class 'complex'>\n",
      "<class 'complex'>\n",
      "<class 'int'>\n",
      "<class 'float'>\n"
     ]
    }
   ],
   "source": [
    "a = 235467191\n",
    "b = 453729.098876\n",
    "c = 3+7j\n",
    "d = 6j\n",
    "e = -8706\n",
    "f = -8.56\n",
    "\n",
    "print(type(a))\n",
    "print(type(b))\n",
    "print(type(c))\n",
    "print(type(d))\n",
    "print(type(e))\n",
    "print(type(f))\n"
   ]
  },
  {
   "cell_type": "code",
   "execution_count": 2,
   "metadata": {},
   "outputs": [
    {
     "name": "stdout",
     "output_type": "stream",
     "text": [
      "<class 'float'>\n",
      "<class 'float'>\n",
      "<class 'float'>\n"
     ]
    }
   ],
   "source": [
    "x = 35e3\n",
    "y = 12E4\n",
    "z = -87.7e100\n",
    "print(type(x))\n",
    "print(type(y))\n",
    "print(type(z))"
   ]
  },
  {
   "cell_type": "code",
   "execution_count": 3,
   "metadata": {},
   "outputs": [
    {
     "name": "stdout",
     "output_type": "stream",
     "text": [
      "['Monday', 'Tuesday', 'Wednesday', 'Thursday', 'Friday']\n"
     ]
    }
   ],
   "source": [
    "days = ['Monday','Tuesday','Wednesday','Thursday','Friday']\n",
    "print(days)"
   ]
  },
  {
   "cell_type": "code",
   "execution_count": 5,
   "metadata": {},
   "outputs": [
    {
     "name": "stdout",
     "output_type": "stream",
     "text": [
      "word\n",
      "This is sentence.\n",
      "This is made up of multiple lines and sentences\n"
     ]
    }
   ],
   "source": [
    "word = 'word'\n",
    "sentence = \"This is sentence.\"\n",
    "paragraph = \"\"\"This is made up of multiple lines and sentences\"\"\"\n",
    "print(word)\n",
    "print(sentence)\n",
    "print(paragraph)"
   ]
  },
  {
   "cell_type": "code",
   "execution_count": 6,
   "metadata": {},
   "outputs": [
    {
     "name": "stdout",
     "output_type": "stream",
     "text": [
      "1\n",
      "[2, 3, 4, 5, 6, 7, 8, 9]\n"
     ]
    }
   ],
   "source": [
    "a,*b=[1,2,3,4,5,6,7,8,9]\n",
    "print(a)\n",
    "print(b)"
   ]
  },
  {
   "cell_type": "code",
   "execution_count": 7,
   "metadata": {},
   "outputs": [
    {
     "name": "stdout",
     "output_type": "stream",
     "text": [
      "10\n",
      "10\n",
      "10\n"
     ]
    }
   ],
   "source": [
    "x=y=z=10\n",
    "print(x)\n",
    "print(y)\n",
    "print(z)"
   ]
  },
  {
   "cell_type": "code",
   "execution_count": 8,
   "metadata": {},
   "outputs": [
    {
     "name": "stdout",
     "output_type": "stream",
     "text": [
      "Hello world\n",
      "H\n",
      "llo\n",
      "llo world\n",
      "Hello worldHello worldHello worldHello worldHello world\n",
      "Hello worldGood morning\n"
     ]
    }
   ],
   "source": [
    "#string operations\n",
    "str = 'Hello world'\n",
    "print(str) #prints complete string\n",
    "print(str[0]) #prints first character of the string\n",
    "print(str[2:5]) #print characters starting from 3rd to fifth\n",
    "print(str[2:]) #print string starting with 3rd character\n",
    "print(str *5)\n",
    "print(str + \"Good morning\")"
   ]
  },
  {
   "cell_type": "code",
   "execution_count": 9,
   "metadata": {},
   "outputs": [
    {
     "name": "stdout",
     "output_type": "stream",
     "text": [
      "['abcd', 786, 2.22, 'india', 70.2]\n",
      "70.2\n",
      "[786, 2.22]\n",
      "[2.22, 'india', 70.2]\n",
      "[123, 'PathToLearn', 123, 'PathToLearn']\n",
      "['abcd', 786, 2.22, 'india', 70.2, 123, 'PathToLearn']\n",
      "['abcd', 786, 2.22]\n",
      "['abcd', 786, 2.22, 'india', 70.2, 'New_item']\n"
     ]
    }
   ],
   "source": [
    "#List operations\n",
    "list = ['abcd',786,2.22,'india',70.2]\n",
    "tinylist = [123,'PathToLearn']\n",
    "print(list)\n",
    "print(list[4])\n",
    "print(list[1:3]) #print elements starting from 2nd till 3rd\n",
    "print(list[2:]) #print elements starting from 3rd element\n",
    "print(tinylist * 2)\n",
    "print(list + tinylist)\n",
    "print(list[:3])\n",
    "list.append('New_item')\n",
    "print(list)\n",
    "list[1] = 'changed'\n"
   ]
  },
  {
   "cell_type": "code",
   "execution_count": 14,
   "metadata": {},
   "outputs": [
    {
     "name": "stdout",
     "output_type": "stream",
     "text": [
      "('abcd', 786, 2.23, 'john', 70.3)\n",
      "abcd\n",
      "(786, 2.23)\n",
      "(2.23, 'john', 70.3)\n",
      "(123, 'john', 123, 'john')\n",
      "('abcd', 786, 2.23, 'john', 70.3, 123, 'john')\n",
      "('abcd', 786, 2.23, 'john', 70.3)\n"
     ]
    }
   ],
   "source": [
    "#Tuple operations\n",
    "tuple = ('abcd',786,2.23,'john',70.3)\n",
    "tinytuple = (123,'john')\n",
    "print(tuple) #prints complete list\n",
    "print(tuple[0]) #prints first element\n",
    "print(tuple[1:3]) #print elements starting from 2nd till 3rd\n",
    "print(tuple[2:]) #print elements starting from 2nd\n",
    "print(tinytuple * 2)\n",
    "print(tuple + tinytuple)\n",
    "#tuple.append('new') #'tuple' object has no attribute 'append'\n",
    "#print(tuple)\n",
    "#tuple[2]='67'\n",
    "print(tuple)\n",
    "\n",
    "\n"
   ]
  },
  {
   "cell_type": "code",
   "execution_count": 16,
   "metadata": {},
   "outputs": [
    {
     "name": "stdout",
     "output_type": "stream",
     "text": [
      "{'one': 'This is one', 2: 'This is two'}\n"
     ]
    }
   ],
   "source": [
    "#dictionary operations\n",
    "dict = {}\n",
    "dict['one'] = \"This is one\"\n",
    "dict[2] = \"This is two\"\n",
    "print(dict)\n"
   ]
  },
  {
   "cell_type": "code",
   "execution_count": 20,
   "metadata": {
    "scrolled": true
   },
   "outputs": [
    {
     "name": "stdout",
     "output_type": "stream",
     "text": [
      "This is one\n",
      "This is two\n",
      "{'name': 'lakshmi', 'code': 6734, 'dept': 'sales'}\n",
      "dict_keys(['name', 'code', 'dept'])\n",
      "dict_values(['lakshmi', 6734, 'sales'])\n",
      "{'place': 'vijayawada', 'code': 565581, 'dept': 'medical'}\n",
      "dict_keys(['place', 'code', 'dept'])\n",
      "dict_values(['vijayawada', 565581, 'medical'])\n"
     ]
    }
   ],
   "source": [
    "tinydict = {'name':'lakshmi','code':6734,'dept':'sales'}\n",
    "Ramesh={'place':'vijayawada','code':565581,'dept':'medical'}\n",
    "print(dict['one'])\n",
    "print(dict[2])\n",
    "print(tinydict)\n",
    "print(tinydict.keys()) #print all keys\n",
    "print(tinydict.values()) #print all values\n",
    "print(Ramesh) #print complete dict\n",
    "print(Ramesh.keys())\n",
    "print(Ramesh.values())"
   ]
  },
  {
   "cell_type": "code",
   "execution_count": 22,
   "metadata": {},
   "outputs": [
    {
     "name": "stdout",
     "output_type": "stream",
     "text": [
      "<class 'set'>\n",
      "S2 type is: <class 'set'>\n",
      "{'lion', 'wood_pecker', 'beer', 'elephant', 'crow', 'ant', 'peacock', 'cat', 'pigeon', 'kokoo', 'sparrow', 'tiger', 'horse', 'hummingbird', 'eagle'}\n",
      "Type of r1 is: <class 'set'>\n",
      "\n",
      "{'pigeon', 'sparrow', 'peacock'}\n",
      "Type of r2 is: <class 'set'>\n"
     ]
    }
   ],
   "source": [
    "#set operations\n",
    "s1=set(['peacock','eagle','sparrow','pigeon','hummingbird','kokoo','crow','wood_pecker'])\n",
    "s2=set(['peacock','pigeon','sparrow','tiger','lion','beer','cat','elephant','ant','horse'])\n",
    "r1=s1|s2\n",
    "r2=s1&s2\n",
    "print(type(s1))\n",
    "print(\"S2 type is:\",type(s2))\n",
    "print(r1)\n",
    "print(\"Type of r1 is:\",type(r1))\n",
    "print()\n",
    "print(r2)\n",
    "print(\"Type of r2 is:\",type(r2))"
   ]
  },
  {
   "cell_type": "markdown",
   "metadata": {},
   "source": [
    "# Operators"
   ]
  },
  {
   "cell_type": "code",
   "execution_count": 23,
   "metadata": {},
   "outputs": [
    {
     "name": "stdout",
     "output_type": "stream",
     "text": [
      "Addition of a & b= 15\n",
      "Substraction= 5\n",
      "Multiplication= 50\n",
      "Exponent= 100000\n",
      "Modulus = 1\n",
      "Floor Division= 2\n",
      "Division= 2.3333333333333335\n"
     ]
    }
   ],
   "source": [
    "#Arithmetic operator\n",
    "a=10\n",
    "b=5\n",
    "x=7\n",
    "y=3\n",
    "print(\"Addition of a & b=\",a+b)\n",
    "print(\"Substraction=\",a-b)\n",
    "print(\"Multiplication=\",a*b)\n",
    "print(\"Exponent=\",a**b)\n",
    "print(\"Modulus =\",x%y)\n",
    "print('Floor Division=',x//y)\n",
    "print(\"Division=\",x/y)"
   ]
  },
  {
   "cell_type": "code",
   "execution_count": 24,
   "metadata": {},
   "outputs": [
    {
     "name": "stdout",
     "output_type": "stream",
     "text": [
      "The comparison values are = False\n",
      "True\n",
      "True\n",
      "False\n",
      "True\n",
      "False\n"
     ]
    }
   ],
   "source": [
    "#comparison\n",
    "a=25\n",
    "b=15\n",
    "print(\"The comparison values are =\",a==b)\n",
    "print(a!=b)\n",
    "print(a>b)\n",
    "print(a<b)\n",
    "print(a>=b)\n",
    "print(a<=b)"
   ]
  },
  {
   "cell_type": "code",
   "execution_count": 25,
   "metadata": {},
   "outputs": [
    {
     "name": "stdout",
     "output_type": "stream",
     "text": [
      "18\n",
      "21\n",
      "18\n",
      "54\n",
      "18.0\n",
      "5832.0\n",
      "0.0\n",
      "0.0\n"
     ]
    }
   ],
   "source": [
    "#Assignment operator\n",
    "p=15\n",
    "q=3\n",
    "r=p+q\n",
    "print(r)\n",
    "r+=q #this operation similar to r=r+q\n",
    "print(r)\n",
    "r-=q\n",
    "print(r)\n",
    "r*=q\n",
    "print(r)\n",
    "r/=q\n",
    "print(r)\n",
    "r**=q\n",
    "print(r)\n",
    "r%=q\n",
    "print(r)\n",
    "r//=q\n",
    "print(r)"
   ]
  },
  {
   "cell_type": "code",
   "execution_count": 27,
   "metadata": {},
   "outputs": [
    {
     "name": "stdout",
     "output_type": "stream",
     "text": [
      "Bitwise AND = 4\n",
      "Bitwise OR = 7\n",
      "Bitwise XOR = 3\n",
      "Negate A = -7\n"
     ]
    }
   ],
   "source": [
    "#Bit wise operator\n",
    "a=6\n",
    "b=5\n",
    "print(\"Bitwise AND =\",a&b)\n",
    "print(\"Bitwise OR =\",a|b)\n",
    "print(\"Bitwise XOR =\",a^b)\n",
    "print(\"Negate A =\",~a)"
   ]
  },
  {
   "cell_type": "markdown",
   "metadata": {},
   "source": [
    "# Time and Date"
   ]
  },
  {
   "cell_type": "code",
   "execution_count": 28,
   "metadata": {},
   "outputs": [
    {
     "name": "stdout",
     "output_type": "stream",
     "text": [
      "4.0\n",
      "0.0\n",
      "1.0\n",
      "1.0\n",
      "3.141592653589793\n",
      "6.708203932499369\n",
      "46\n",
      "67\n",
      "-3\n",
      "-3\n",
      "5\n",
      "4\n",
      "-4\n",
      "-5\n",
      "56.94\n"
     ]
    }
   ],
   "source": [
    "#import libraries\n",
    "from math import ceil,sqrt,sin,cos,tanh,pi,floor,fabs\n",
    "print(sqrt(16))\n",
    "print(sin(0))\n",
    "print(cos(0))\n",
    "print(tanh(45))\n",
    "print(pi)\n",
    "print(sqrt(45))\n",
    "print(ceil(45.037))\n",
    "print(floor(67.983))\n",
    "print(ceil(-3.75))\n",
    "print(floor(-2.5))\n",
    "print(ceil(4.04))\n",
    "print(floor(4.04))\n",
    "print(ceil(-4.04))\n",
    "print(floor(-4.04))\n",
    "print(fabs(-56.94))\n",
    "\n"
   ]
  },
  {
   "cell_type": "code",
   "execution_count": 29,
   "metadata": {},
   "outputs": [
    {
     "name": "stdout",
     "output_type": "stream",
     "text": [
      "Number of ticks:  1569697605.6123886\n",
      "Local current time : time.struct_time(tm_year=2019, tm_mon=9, tm_mday=28, tm_hour=11, tm_min=6, tm_sec=45, tm_wday=5, tm_yday=271, tm_isdst=0)\n",
      "Local current time : Sat Sep 28 11:06:45 2019\n"
     ]
    }
   ],
   "source": [
    "import time\n",
    "ticks = time.time() # using time() to display time since epoch\n",
    "print (\"Number of ticks: \", ticks)\n",
    "\n",
    "localtime = time.localtime(time.time())\n",
    "print (\"Local current time :\", localtime)\n",
    "localtime = time.asctime( time.localtime(time.time()) )\n",
    "print (\"Local current time :\", localtime)\n",
    "\n"
   ]
  },
  {
   "cell_type": "code",
   "execution_count": 30,
   "metadata": {},
   "outputs": [
    {
     "name": "stdout",
     "output_type": "stream",
     "text": [
      "Here is the calendar:\n",
      "     April 1990\n",
      "Mo Tu We Th Fr Sa Su\n",
      "                   1\n",
      " 2  3  4  5  6  7  8\n",
      " 9 10 11 12 13 14 15\n",
      "16 17 18 19 20 21 22\n",
      "23 24 25 26 27 28 29\n",
      "30\n",
      "\n",
      "0\n",
      "False\n",
      "False\n",
      "True\n",
      "True\n",
      "9\n",
      "(2019, 1)\n",
      "4\n"
     ]
    }
   ],
   "source": [
    "import calendar\n",
    "cal =calendar.month(1990,4)\n",
    "print (\"Here is the calendar:\")\n",
    "print (cal)\n",
    "c=calendar.firstweekday()\n",
    "#c= dir(calendar)\n",
    "print(c)\n",
    "a=calendar.isleap(2018)\n",
    "b=calendar.isleap(1983)\n",
    "d=calendar.isleap(2000)\n",
    "e=calendar.isleap(1984)\n",
    "print(a)\n",
    "print(b)\n",
    "print(d)\n",
    "print(e)\n",
    "p=calendar.leapdays(1984,2018)\n",
    "print(p)\n",
    "q=calendar.nextmonth(2018,12)\n",
    "print(q)\n",
    "r=calendar.weekday(2018,12,21)\n",
    "print(r)\n"
   ]
  },
  {
   "cell_type": "code",
   "execution_count": 32,
   "metadata": {},
   "outputs": [
    {
     "name": "stdout",
     "output_type": "stream",
     "text": [
      "['__doc__', '__loader__', '__name__', '__package__', '__spec__', 'acos', 'acosh', 'asin', 'asinh', 'atan', 'atan2', 'atanh', 'ceil', 'copysign', 'cos', 'cosh', 'degrees', 'e', 'erf', 'erfc', 'exp', 'expm1', 'fabs', 'factorial', 'floor', 'fmod', 'frexp', 'fsum', 'gamma', 'gcd', 'hypot', 'inf', 'isclose', 'isfinite', 'isinf', 'isnan', 'ldexp', 'lgamma', 'log', 'log10', 'log1p', 'log2', 'modf', 'nan', 'pi', 'pow', 'radians', 'remainder', 'sin', 'sinh', 'sqrt', 'tan', 'tanh', 'tau', 'trunc']\n"
     ]
    }
   ],
   "source": [
    "import math\n",
    "content = dir(math)\n",
    "print(content)"
   ]
  },
  {
   "cell_type": "markdown",
   "metadata": {},
   "source": [
    "# Functions and Modules"
   ]
  },
  {
   "cell_type": "code",
   "execution_count": 33,
   "metadata": {},
   "outputs": [
    {
     "name": "stdout",
     "output_type": "stream",
     "text": [
      "HI\n",
      "HI\n",
      "HI\n"
     ]
    }
   ],
   "source": [
    "def my_func():\n",
    "    print(\"HI\")\n",
    "    print(\"HI\")\n",
    "    print(\"HI\")\n",
    "my_func()"
   ]
  },
  {
   "cell_type": "code",
   "execution_count": 34,
   "metadata": {},
   "outputs": [
    {
     "ename": "NameError",
     "evalue": "name 'hello' is not defined",
     "output_type": "error",
     "traceback": [
      "\u001b[1;31m---------------------------------------------------------------------------\u001b[0m",
      "\u001b[1;31mNameError\u001b[0m                                 Traceback (most recent call last)",
      "\u001b[1;32m<ipython-input-34-c2d74252c3d1>\u001b[0m in \u001b[0;36m<module>\u001b[1;34m\u001b[0m\n\u001b[1;32m----> 1\u001b[1;33m \u001b[0mhello\u001b[0m\u001b[1;33m(\u001b[0m\u001b[1;33m)\u001b[0m \u001b[1;31m#calling function before declaration\u001b[0m\u001b[1;33m\u001b[0m\u001b[1;33m\u001b[0m\u001b[0m\n\u001b[0m\u001b[0;32m      2\u001b[0m \u001b[1;32mdef\u001b[0m \u001b[0mhello\u001b[0m\u001b[1;33m(\u001b[0m\u001b[1;33m)\u001b[0m\u001b[1;33m:\u001b[0m\u001b[1;33m\u001b[0m\u001b[1;33m\u001b[0m\u001b[0m\n\u001b[0;32m      3\u001b[0m     \u001b[0mprint\u001b[0m\u001b[1;33m(\u001b[0m\u001b[1;34m\"Hello World\"\u001b[0m\u001b[1;33m)\u001b[0m\u001b[1;33m\u001b[0m\u001b[1;33m\u001b[0m\u001b[0m\n",
      "\u001b[1;31mNameError\u001b[0m: name 'hello' is not defined"
     ]
    }
   ],
   "source": [
    "hello() #calling function before declaration\n",
    "def hello():\n",
    "    print(\"Hello World\")"
   ]
  },
  {
   "cell_type": "code",
   "execution_count": 35,
   "metadata": {},
   "outputs": [
    {
     "name": "stdout",
     "output_type": "stream",
     "text": [
      "HAVE A!\n",
      "GOOD DAY!\n",
      "python!\n"
     ]
    }
   ],
   "source": [
    "def print_with_exclamation(word):\n",
    "    print(word + \"!\")\n",
    "print_with_exclamation(\"HAVE A\")\n",
    "print_with_exclamation(\"GOOD DAY\")\n",
    "print_with_exclamation(\"python\")"
   ]
  },
  {
   "cell_type": "code",
   "execution_count": 36,
   "metadata": {},
   "outputs": [
    {
     "name": "stdout",
     "output_type": "stream",
     "text": [
      "13\n",
      "13\n"
     ]
    }
   ],
   "source": [
    "def print_sum_twice(x,y):\n",
    "    print(x + y)\n",
    "    print(x + y)\n",
    "print_sum_twice(5,8)\n",
    "    "
   ]
  },
  {
   "cell_type": "code",
   "execution_count": 38,
   "metadata": {},
   "outputs": [
    {
     "name": "stdout",
     "output_type": "stream",
     "text": [
      "8\n"
     ]
    },
    {
     "ename": "NameError",
     "evalue": "name 'variable' is not defined",
     "output_type": "error",
     "traceback": [
      "\u001b[1;31m---------------------------------------------------------------------------\u001b[0m",
      "\u001b[1;31mNameError\u001b[0m                                 Traceback (most recent call last)",
      "\u001b[1;32m<ipython-input-38-f48b2165eaf8>\u001b[0m in \u001b[0;36m<module>\u001b[1;34m\u001b[0m\n\u001b[0;32m      3\u001b[0m     \u001b[0mprint\u001b[0m\u001b[1;33m(\u001b[0m\u001b[0mvariable\u001b[0m\u001b[1;33m)\u001b[0m\u001b[1;33m\u001b[0m\u001b[1;33m\u001b[0m\u001b[0m\n\u001b[0;32m      4\u001b[0m \u001b[0mfunction\u001b[0m\u001b[1;33m(\u001b[0m\u001b[1;36m7\u001b[0m\u001b[1;33m)\u001b[0m\u001b[1;33m\u001b[0m\u001b[1;33m\u001b[0m\u001b[0m\n\u001b[1;32m----> 5\u001b[1;33m \u001b[0mprint\u001b[0m\u001b[1;33m(\u001b[0m\u001b[0mvariable\u001b[0m\u001b[1;33m)\u001b[0m\u001b[1;33m\u001b[0m\u001b[1;33m\u001b[0m\u001b[0m\n\u001b[0m",
      "\u001b[1;31mNameError\u001b[0m: name 'variable' is not defined"
     ]
    }
   ],
   "source": [
    "def function(variable):\n",
    "    variable +=1\n",
    "    print(variable)\n",
    "function(7)\n",
    "print(variable)"
   ]
  },
  {
   "cell_type": "code",
   "execution_count": 39,
   "metadata": {},
   "outputs": [
    {
     "name": "stdout",
     "output_type": "stream",
     "text": [
      "7\n",
      "8\n"
     ]
    }
   ],
   "source": [
    "def max(x,y):\n",
    "    if x>=y:\n",
    "        return x\n",
    "    else:\n",
    "        return y\n",
    "    \n",
    "print(max(4,7))\n",
    "z = max(8,5)\n",
    "print(z)"
   ]
  },
  {
   "cell_type": "code",
   "execution_count": 40,
   "metadata": {},
   "outputs": [
    {
     "name": "stdout",
     "output_type": "stream",
     "text": [
      "9\n"
     ]
    }
   ],
   "source": [
    "def add_numbers(x, y):\n",
    "  total = x + y\n",
    "  return total\n",
    "  print(\"This won't be printed\")\n",
    "\n",
    "print(add_numbers(4, 5))"
   ]
  },
  {
   "cell_type": "markdown",
   "metadata": {},
   "source": [
    "# FUNCTIONS AS OBJECT"
   ]
  },
  {
   "cell_type": "code",
   "execution_count": 41,
   "metadata": {},
   "outputs": [
    {
     "name": "stdout",
     "output_type": "stream",
     "text": [
      "28\n"
     ]
    }
   ],
   "source": [
    "def multiply(x, y):\n",
    "   return x * y\n",
    "\n",
    "a = 4\n",
    "b = 7\n",
    "operation = multiply\n",
    "print(operation(a, b))\n"
   ]
  },
  {
   "cell_type": "code",
   "execution_count": 42,
   "metadata": {},
   "outputs": [
    {
     "name": "stdout",
     "output_type": "stream",
     "text": [
      "30\n"
     ]
    }
   ],
   "source": [
    "def add(x, y):\n",
    "  return x + y\n",
    "\n",
    "def do_twice(func, x, y):\n",
    "  return func(func(x, y), func(x, y))\n",
    "\n",
    "a = 5\n",
    "b = 10\n",
    "\n",
    "print(do_twice(add, a, b))\n"
   ]
  },
  {
   "cell_type": "markdown",
   "metadata": {},
   "source": [
    "# Modules"
   ]
  },
  {
   "cell_type": "code",
   "execution_count": 43,
   "metadata": {},
   "outputs": [
    {
     "name": "stdout",
     "output_type": "stream",
     "text": [
      "5\n",
      "6\n",
      "6\n",
      "5\n",
      "4\n"
     ]
    }
   ],
   "source": [
    "import random\n",
    "\n",
    "for i in range(5):\n",
    "   value = random.randint(1, 6)  \n",
    "   print(value)\n"
   ]
  },
  {
   "cell_type": "code",
   "execution_count": 44,
   "metadata": {},
   "outputs": [
    {
     "name": "stdout",
     "output_type": "stream",
     "text": [
      "3.141592653589793\n"
     ]
    }
   ],
   "source": [
    "from math import pi\n",
    "\n",
    "print(pi)"
   ]
  },
  {
   "cell_type": "code",
   "execution_count": 45,
   "metadata": {},
   "outputs": [
    {
     "name": "stdout",
     "output_type": "stream",
     "text": [
      "10.0\n"
     ]
    }
   ],
   "source": [
    "from math import sqrt as square_root\n",
    "print(square_root(100))"
   ]
  },
  {
   "cell_type": "code",
   "execution_count": null,
   "metadata": {},
   "outputs": [],
   "source": []
  }
 ],
 "metadata": {
  "kernelspec": {
   "display_name": "Python 3",
   "language": "python",
   "name": "python3"
  },
  "language_info": {
   "codemirror_mode": {
    "name": "ipython",
    "version": 3
   },
   "file_extension": ".py",
   "mimetype": "text/x-python",
   "name": "python",
   "nbconvert_exporter": "python",
   "pygments_lexer": "ipython3",
   "version": "3.7.3"
  }
 },
 "nbformat": 4,
 "nbformat_minor": 2
}
